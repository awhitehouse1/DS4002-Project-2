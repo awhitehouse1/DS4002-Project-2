{
  "nbformat": 4,
  "nbformat_minor": 0,
  "metadata": {
    "colab": {
      "provenance": [],
      "include_colab_link": true
    },
    "kernelspec": {
      "name": "python3",
      "display_name": "Python 3"
    },
    "language_info": {
      "name": "python"
    }
  },
  "cells": [
    {
      "cell_type": "markdown",
      "metadata": {
        "id": "view-in-github",
        "colab_type": "text"
      },
      "source": [
        "<a href=\"https://colab.research.google.com/github/awhitehouse1/DS4002-Project-2/blob/main/MergeData.ipynb\" target=\"_parent\"><img src=\"https://colab.research.google.com/assets/colab-badge.svg\" alt=\"Open In Colab\"/></a>"
      ]
    },
    {
      "cell_type": "code",
      "execution_count": 3,
      "metadata": {
        "id": "jlRtXf638FyV"
      },
      "outputs": [],
      "source": [
        "# code below to merge the two separate data sets"
      ]
    },
    {
      "cell_type": "code",
      "source": [
        "import pandas as pd\n",
        "from google.colab import files\n",
        "\n",
        "# Load the datasets\n",
        "covid_data = pd.read_csv(\"COVID-19 Time Series Data.csv\")\n",
        "gdp_data = pd.read_csv(\"gdp_per_capita.csv\", delimiter=',', skiprows=3, on_bad_lines='warn', keep_default_na=True)\n",
        "democracy_data = pd.read_csv(\"DemocracyMatrix_v4.csv\")\n",
        "\n",
        "# Convert the 'Date' column in the COVID dataset to datetime format\n",
        "covid_data['Date'] = pd.to_datetime(covid_data['Date'])\n",
        "\n",
        "# Filter the COVID data for dates between January 22, 2020, and January 22, 2022\n",
        "start_date = '2020-01-22'\n",
        "end_date = '2022-01-22'\n",
        "covid_filtered = covid_data[(covid_data['Date'] >= start_date) & (covid_data['Date'] <= end_date)]\n",
        "\n",
        "# Extract the year from the 'Date' column in the COVID dataset\n",
        "covid_filtered['Year'] = covid_filtered['Date'].dt.year\n",
        "\n",
        "# Select relevant columns from the COVID dataset\n",
        "covid_filtered = covid_filtered[['Country/Region', 'Year', 'Deaths']]\n",
        "\n",
        "# Reshape the GDP data to have a 'Year' column, considering the year columns are integers\n",
        "gdp_melted = gdp_data.melt(id_vars='Country Name', value_vars=['2020', '2021', '2022'],\n",
        "                           var_name='Year', value_name='GDP_per_Capita')\n",
        "\n",
        "# Convert the 'Year' column to numeric\n",
        "gdp_melted['Year'] = pd.to_numeric(gdp_melted['Year'])\n",
        "\n",
        "# Merge the COVID dataset with the GDP dataset on 'Country/Region' and 'Country Name' and 'Year'\n",
        "merged_data = pd.merge(covid_filtered, gdp_melted, how='inner', left_on=['Country/Region', 'Year'], right_on=['Country Name', 'Year'])\n",
        "\n",
        "# Drop the 'Country Name' column\n",
        "merged_data = merged_data.drop(columns=['Country Name'])\n",
        "\n",
        "# Filter democracy data for the year 2020 and select relevant columns\n",
        "democracy_2020 = democracy_data[democracy_data['year'] == 2020][['country', 'total_index_context', 'classification_context']]\n",
        "\n",
        "# Merge the data with democracy scores on 'Country/Region' and 'country'\n",
        "final_merged_data = pd.merge(merged_data, democracy_2020, how='inner', left_on='Country/Region', right_on='country')\n",
        "\n",
        "final_merged_data = final_merged_data.drop(columns=['country'])\n",
        "\n",
        "# Save the merged dataset as a CSV file\n",
        "final_merged_data.to_csv('/content/merged_covid_gdp_democracy_data.csv', index=False)\n",
        "\n",
        "# Provide the download link\n",
        "files.download('/content/merged_covid_gdp_democracy_data.csv')\n"
      ],
      "metadata": {
        "colab": {
          "base_uri": "https://localhost:8080/",
          "height": 124
        },
        "id": "HQjSGJzz8sYb",
        "outputId": "692d39cc-fd52-4bc9-9f4b-50a55603cfab"
      },
      "execution_count": 21,
      "outputs": [
        {
          "output_type": "stream",
          "name": "stderr",
          "text": [
            "<ipython-input-21-f4596aba04bf>:18: SettingWithCopyWarning: \n",
            "A value is trying to be set on a copy of a slice from a DataFrame.\n",
            "Try using .loc[row_indexer,col_indexer] = value instead\n",
            "\n",
            "See the caveats in the documentation: https://pandas.pydata.org/pandas-docs/stable/user_guide/indexing.html#returning-a-view-versus-a-copy\n",
            "  covid_filtered['Year'] = covid_filtered['Date'].dt.year\n"
          ]
        },
        {
          "output_type": "display_data",
          "data": {
            "text/plain": [
              "<IPython.core.display.Javascript object>"
            ],
            "application/javascript": [
              "\n",
              "    async function download(id, filename, size) {\n",
              "      if (!google.colab.kernel.accessAllowed) {\n",
              "        return;\n",
              "      }\n",
              "      const div = document.createElement('div');\n",
              "      const label = document.createElement('label');\n",
              "      label.textContent = `Downloading \"${filename}\": `;\n",
              "      div.appendChild(label);\n",
              "      const progress = document.createElement('progress');\n",
              "      progress.max = size;\n",
              "      div.appendChild(progress);\n",
              "      document.body.appendChild(div);\n",
              "\n",
              "      const buffers = [];\n",
              "      let downloaded = 0;\n",
              "\n",
              "      const channel = await google.colab.kernel.comms.open(id);\n",
              "      // Send a message to notify the kernel that we're ready.\n",
              "      channel.send({})\n",
              "\n",
              "      for await (const message of channel.messages) {\n",
              "        // Send a message to notify the kernel that we're ready.\n",
              "        channel.send({})\n",
              "        if (message.buffers) {\n",
              "          for (const buffer of message.buffers) {\n",
              "            buffers.push(buffer);\n",
              "            downloaded += buffer.byteLength;\n",
              "            progress.value = downloaded;\n",
              "          }\n",
              "        }\n",
              "      }\n",
              "      const blob = new Blob(buffers, {type: 'application/binary'});\n",
              "      const a = document.createElement('a');\n",
              "      a.href = window.URL.createObjectURL(blob);\n",
              "      a.download = filename;\n",
              "      div.appendChild(a);\n",
              "      a.click();\n",
              "      div.remove();\n",
              "    }\n",
              "  "
            ]
          },
          "metadata": {}
        },
        {
          "output_type": "display_data",
          "data": {
            "text/plain": [
              "<IPython.core.display.Javascript object>"
            ],
            "application/javascript": [
              "download(\"download_8f31d30a-5d9a-4936-944b-84df834d401b\", \"merged_covid_gdp_democracy_data.csv\", 11713685)"
            ]
          },
          "metadata": {}
        }
      ]
    }
  ]
}