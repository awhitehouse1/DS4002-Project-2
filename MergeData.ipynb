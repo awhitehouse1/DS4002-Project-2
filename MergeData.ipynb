{
  "nbformat": 4,
  "nbformat_minor": 0,
  "metadata": {
    "colab": {
      "provenance": []
    },
    "kernelspec": {
      "name": "python3",
      "display_name": "Python 3"
    },
    "language_info": {
      "name": "python"
    }
  },
  "cells": [
    {
      "cell_type": "code",
      "execution_count": null,
      "metadata": {
        "id": "jlRtXf638FyV"
      },
      "outputs": [],
      "source": [
        "# code below to merge the two separate data sets"
      ]
    },
    {
      "cell_type": "code",
      "source": [
        "# Time Series Data\n",
        "# Load the datasets\n",
        "covid_data = pd.read_csv(\"COVID-19 Time Series Data.csv\")\n",
        "gdp_data = pd.read_csv(\"gdp_per_capita.csv\", delimiter=',', skiprows=3, on_bad_lines='warn', keep_default_na=True)\n",
        "democracy_data = pd.read_csv(\"DemocracyMatrix_v4.csv\")\n",
        "\n",
        "# Convert the 'Date' column in the COVID dataset to datetime format\n",
        "covid_data['Date'] = pd.to_datetime(covid_data['Date'])\n",
        "\n",
        "# Filter the COVID data for dates between January 22, 2020, and January 22, 2022\n",
        "start_date = '2020-01-22'\n",
        "end_date = '2022-01-22'\n",
        "covid_filtered = covid_data[(covid_data['Date'] >= start_date) & (covid_data['Date'] <= end_date)]\n",
        "\n",
        "# Extract the year from the 'Date' column in the COVID dataset\n",
        "covid_filtered['Year'] = covid_filtered['Date'].dt.year\n",
        "\n",
        "# Create 'Month' column from the 'Date' column\n",
        "covid_filtered['Month'] = covid_filtered['Date'].dt.month\n",
        "\n",
        "# Drop the 'Province/State' column since it's not needed\n",
        "covid_filtered = covid_filtered.drop(columns=['Province/State'])\n",
        "\n",
        "# Rename 'Country/Region' column\n",
        "covid_filtered = covid_filtered.rename(columns={'Country/Region': 'Country'})\n",
        "\n",
        "# Export the final merged DataFrame to a CSV file\n",
        "covid_filtered .to_csv('cleaned_covid_data.csv', index=False)\n",
        "\n",
        "\n",
        "\n"
      ],
      "metadata": {
        "colab": {
          "base_uri": "https://localhost:8080/"
        },
        "id": "HQjSGJzz8sYb",
        "outputId": "c647552c-45b3-4681-dd4c-d19d8c1b5bb9"
      },
      "execution_count": 38,
      "outputs": [
        {
          "output_type": "stream",
          "name": "stdout",
          "text": [
            "             Date      Country  Confirmed  Recovered  Deaths  Year  Month\n",
            "0      2020-01-22  Afghanistan          0        0.0       0  2020      1\n",
            "1      2020-01-23  Afghanistan          0        0.0       0  2020      1\n",
            "2      2020-01-24  Afghanistan          0        0.0       0  2020      1\n",
            "3      2020-01-25  Afghanistan          0        0.0       0  2020      1\n",
            "4      2020-01-26  Afghanistan          0        0.0       0  2020      1\n",
            "...           ...          ...        ...        ...     ...   ...    ...\n",
            "231655 2022-01-18     Zimbabwe     226460        0.0    5258  2022      1\n",
            "231656 2022-01-19     Zimbabwe     226887        0.0    5266  2022      1\n",
            "231657 2022-01-20     Zimbabwe     227552        0.0    5276  2022      1\n",
            "231658 2022-01-21     Zimbabwe     227961        0.0    5288  2022      1\n",
            "231659 2022-01-22     Zimbabwe     228179        0.0    5292  2022      1\n",
            "\n",
            "[207888 rows x 7 columns]\n"
          ]
        },
        {
          "output_type": "stream",
          "name": "stderr",
          "text": [
            "<ipython-input-38-bb1853305d79>:15: SettingWithCopyWarning: \n",
            "A value is trying to be set on a copy of a slice from a DataFrame.\n",
            "Try using .loc[row_indexer,col_indexer] = value instead\n",
            "\n",
            "See the caveats in the documentation: https://pandas.pydata.org/pandas-docs/stable/user_guide/indexing.html#returning-a-view-versus-a-copy\n",
            "  covid_filtered['Year'] = covid_filtered['Date'].dt.year\n",
            "<ipython-input-38-bb1853305d79>:18: SettingWithCopyWarning: \n",
            "A value is trying to be set on a copy of a slice from a DataFrame.\n",
            "Try using .loc[row_indexer,col_indexer] = value instead\n",
            "\n",
            "See the caveats in the documentation: https://pandas.pydata.org/pandas-docs/stable/user_guide/indexing.html#returning-a-view-versus-a-copy\n",
            "  covid_filtered['Month'] = covid_filtered['Date'].dt.month\n"
          ]
        }
      ]
    },
    {
      "cell_type": "code",
      "source": [
        "# Dataset with COVID deaths, GDP, and democracy scores\n",
        "# Filter COVID dataset to 2020\n",
        "covid_2020 = covid_filtered[covid_filtered['Year'] == 2020]\n",
        "\n",
        "# Reshape the GDP data to have a 'Year' column\n",
        "gdp_melted = gdp_data.melt(id_vars='Country Name', value_vars=['2020', '2021', '2022'],\n",
        "                           var_name='Year', value_name='GDP_per_Capita')\n",
        "\n",
        "# Convert the 'Year' column to numeric\n",
        "gdp_melted['Year'] = pd.to_numeric(gdp_melted['Year'])\n",
        "\n",
        "# Rename 'Country Name' column\n",
        "gdp_melted = gdp_melted.rename(columns={'Country Name': 'Country'})\n",
        "\n",
        "# Merge the COVID dataset with the GDP dataset on 'Country' and 'Year'\n",
        "merged_data = pd.merge(covid_2020, gdp_melted, how='inner', on=['Country', 'Year'])\n",
        "\n",
        "# Rename columns in the democracy dataset\n",
        "democracy_data = democracy_data.rename(columns={'country': 'Country', 'year': 'Year'})\n",
        "\n",
        "# Filter democracy data for the year 2020 and select relevant columns\n",
        "democracy_2020 = democracy_data[democracy_data['Year'] == 2020][['Country', 'Year',  'total_index_context', 'classification_context']]\n",
        "\n",
        "# Ensure there are no leading spaces in 'Country' names\n",
        "democracy_2020['Country'] = democracy_2020['Country'].str.strip()\n",
        "\n",
        "# Merge the data with COVID and GDP with democracy scores on 'Country' and 'Year'\n",
        "merged_data2 = pd.merge(merged_data, democracy_2020, how='inner', on=['Country', 'Year'])\n",
        "\n",
        "# Group by 'Country' and 'Year'\n",
        "grouped_data = merged_data2.groupby(['Country', 'Year']).agg({\n",
        "    'Deaths': 'sum',  # sum deaths for each date in month\n",
        "    'GDP_per_Capita': 'mean',  # Average GDP per capita\n",
        "    'total_index_context': 'mean',  # Average democracy\n",
        "    'classification_context': 'first', # Get the first classification context\n",
        "}).reset_index()\n",
        "\n",
        "# rename columns\n",
        "grouped_data=grouped_data.rename(columns={'total_index_context': 'Democracy_Scores', 'classification_context': 'Democracy_classification'})\n",
        "\n",
        "# Export the final merged DataFrame to a CSV file\n",
        "grouped_data.to_csv('merged_covid_gdp_democracy.csv', index=False)\n",
        "\n",
        "\n",
        "\n",
        "\n",
        "\n"
      ],
      "metadata": {
        "id": "ALExUKFYUXox"
      },
      "execution_count": 55,
      "outputs": []
    }
  ]
}