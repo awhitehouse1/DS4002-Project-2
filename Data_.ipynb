{
  "nbformat": 4,
  "nbformat_minor": 0,
  "metadata": {
    "colab": {
      "provenance": []
    },
    "kernelspec": {
      "name": "python3",
      "display_name": "Python 3"
    },
    "language_info": {
      "name": "python"
    }
  },
  "cells": [
    {
      "cell_type": "code",
      "source": [
        "import pandas as pd\n",
        "# Time series data - 2020 with merged covid, gdp, democracy scores\n",
        "\n",
        "# Load the datasets\n",
        "covid_data = pd.read_csv(\"COVID-19 Time Series Data.csv\")\n",
        "gdp_data = pd.read_csv(\"gdp_per_capita.csv\", delimiter=',', skiprows=3, on_bad_lines='warn', keep_default_na=True)\n",
        "democracy_data = pd.read_csv(\"DemocracyMatrix_v4.csv\")\n",
        "\n",
        "# Convert the 'Date' column in the COVID dataset to datetime format\n",
        "covid_data['Date'] = pd.to_datetime(covid_data['Date'])\n",
        "\n",
        "# Filter the COVID data for the date range from January 22, 2020, to January 22, 2022\n",
        "start_date = '2020-01-22'\n",
        "end_date = '2022-01-22'\n",
        "covid_filtered = covid_data[(covid_data['Date'] >= start_date) & (covid_data['Date'] <= end_date)]\n",
        "\n",
        "# Create 'Year' and 'Month' columns from the 'Date' column\n",
        "covid_filtered['Year'] = covid_filtered['Date'].dt.year\n",
        "covid_filtered['Month'] = covid_filtered['Date'].dt.month\n",
        "\n",
        "# Drop the 'Province/State' column and unnecessary columns\n",
        "covid_filtered = covid_filtered.drop(columns=['Province/State', 'Confirmed', 'Recovered'])\n",
        "\n",
        "# Rename 'Country/Region' column\n",
        "covid_filtered = covid_filtered.rename(columns={'Country/Region': 'Country'})\n",
        "\n",
        "# Melt the GDP data to have a 'Year' column\n",
        "gdp_melted = gdp_data.melt(id_vars='Country Name', value_vars=['2020', '2021', '2022'],\n",
        "                           var_name='Year', value_name='GDP_per_Capita')\n",
        "\n",
        "# Convert the 'Year' column to numeric and rename 'Country Name' column\n",
        "gdp_melted['Year'] = pd.to_numeric(gdp_melted['Year'])\n",
        "gdp_melted = gdp_melted.rename(columns={'Country Name': 'Country'})\n",
        "\n",
        "# Filter GDP data for the years 2020 to 2022\n",
        "gdp_filtered = gdp_melted[gdp_melted['Year'].isin([2020, 2021, 2022])]\n",
        "\n",
        "# Rename columns in the democracy dataset\n",
        "democracy_data = democracy_data.rename(columns={'country': 'Country', 'year': 'Year'})\n",
        "\n",
        "# Filter democracy data for the years 2020 to 2022\n",
        "democracy_filtered = democracy_data[democracy_data['Year'].isin([2020, 2021, 2022])]\n",
        "\n",
        "# Merge the COVID dataset with the GDP dataset on 'Country' and 'Year'\n",
        "merged_data = pd.merge(covid_filtered, gdp_filtered, how='inner', on=['Country', 'Year'])\n",
        "\n",
        "# Merge the above result with democracy data on 'Country' and 'Year'\n",
        "final_merged_data = pd.merge(merged_data, democracy_filtered, how='inner', on=['Country', 'Year'])\n",
        "\n",
        "# Group by 'Country', 'Year', and 'Date' to aggregate the data\n",
        "grouped_data = final_merged_data.groupby(['Country', 'Year', 'Date']).agg({\n",
        "    'Deaths': 'sum',  # Sum deaths for each country and date\n",
        "    'GDP_per_Capita': 'mean',  # Average GDP per capita\n",
        "    'total_index_context': 'mean',  # Average democracy scores\n",
        "    'classification_context': 'first', # Get the first classification context\n",
        "}).reset_index()\n",
        "\n",
        "# Rename columns for clarity\n",
        "grouped_data = grouped_data.rename(columns={\n",
        "    'total_index_context': 'Democracy_Scores',\n",
        "    'classification_context': 'Democracy_Classification'\n",
        "})\n",
        "\n",
        "# Export the final merged DataFrame to a CSV file\n",
        "grouped_data.to_csv('time_series_data.csv', index=False)\n"
      ],
      "metadata": {
        "colab": {
          "base_uri": "https://localhost:8080/"
        },
        "id": "HQjSGJzz8sYb",
        "outputId": "70731ed5-6573-4981-8fb2-4b8c15d407cd"
      },
      "execution_count": 19,
      "outputs": [
        {
          "output_type": "stream",
          "name": "stderr",
          "text": [
            "<ipython-input-19-5bd8a2d2fcb0>:18: SettingWithCopyWarning: \n",
            "A value is trying to be set on a copy of a slice from a DataFrame.\n",
            "Try using .loc[row_indexer,col_indexer] = value instead\n",
            "\n",
            "See the caveats in the documentation: https://pandas.pydata.org/pandas-docs/stable/user_guide/indexing.html#returning-a-view-versus-a-copy\n",
            "  covid_filtered['Year'] = covid_filtered['Date'].dt.year\n",
            "<ipython-input-19-5bd8a2d2fcb0>:19: SettingWithCopyWarning: \n",
            "A value is trying to be set on a copy of a slice from a DataFrame.\n",
            "Try using .loc[row_indexer,col_indexer] = value instead\n",
            "\n",
            "See the caveats in the documentation: https://pandas.pydata.org/pandas-docs/stable/user_guide/indexing.html#returning-a-view-versus-a-copy\n",
            "  covid_filtered['Month'] = covid_filtered['Date'].dt.month\n"
          ]
        },
        {
          "output_type": "stream",
          "name": "stdout",
          "text": [
            "           Country  Year       Date  Deaths  GDP_per_Capita  Democracy_Scores  \\\n",
            "0      Afghanistan  2020 2020-01-22       0      512.055098          0.357568   \n",
            "1      Afghanistan  2020 2020-01-23       0      512.055098          0.357568   \n",
            "2      Afghanistan  2020 2020-01-24       0      512.055098          0.357568   \n",
            "3      Afghanistan  2020 2020-01-25       0      512.055098          0.357568   \n",
            "4      Afghanistan  2020 2020-01-26       0      512.055098          0.357568   \n",
            "...            ...   ...        ...     ...             ...               ...   \n",
            "52090     Zimbabwe  2020 2020-12-27     349     1372.696674          0.336042   \n",
            "52091     Zimbabwe  2020 2020-12-28     354     1372.696674          0.336042   \n",
            "52092     Zimbabwe  2020 2020-12-29     359     1372.696674          0.336042   \n",
            "52093     Zimbabwe  2020 2020-12-30     360     1372.696674          0.336042   \n",
            "52094     Zimbabwe  2020 2020-12-31     363     1372.696674          0.336042   \n",
            "\n",
            "      Democracy_Classification  \n",
            "0           Moderate Autocracy  \n",
            "1           Moderate Autocracy  \n",
            "2           Moderate Autocracy  \n",
            "3           Moderate Autocracy  \n",
            "4           Moderate Autocracy  \n",
            "...                        ...  \n",
            "52090       Moderate Autocracy  \n",
            "52091       Moderate Autocracy  \n",
            "52092       Moderate Autocracy  \n",
            "52093       Moderate Autocracy  \n",
            "52094       Moderate Autocracy  \n",
            "\n",
            "[52095 rows x 7 columns]\n"
          ]
        }
      ]
    },
    {
      "cell_type": "code",
      "source": [
        "# Time series data with only COVID 19 - 2020 to 2022\n",
        "\n",
        "print(covid_filtered)\n",
        "# Export the final merged DataFrame to a CSV file\n",
        "grouped_data.to_csv('cleaned_covid_data.csv', index=False)\n"
      ],
      "metadata": {
        "id": "RBXSVeR51aAe",
        "colab": {
          "base_uri": "https://localhost:8080/"
        },
        "outputId": "741200c2-b257-4d11-e41f-3276250e9047"
      },
      "execution_count": 20,
      "outputs": [
        {
          "output_type": "stream",
          "name": "stdout",
          "text": [
            "             Date      Country  Deaths  Year  Month\n",
            "0      2020-01-22  Afghanistan       0  2020      1\n",
            "1      2020-01-23  Afghanistan       0  2020      1\n",
            "2      2020-01-24  Afghanistan       0  2020      1\n",
            "3      2020-01-25  Afghanistan       0  2020      1\n",
            "4      2020-01-26  Afghanistan       0  2020      1\n",
            "...           ...          ...     ...   ...    ...\n",
            "231655 2022-01-18     Zimbabwe    5258  2022      1\n",
            "231656 2022-01-19     Zimbabwe    5266  2022      1\n",
            "231657 2022-01-20     Zimbabwe    5276  2022      1\n",
            "231658 2022-01-21     Zimbabwe    5288  2022      1\n",
            "231659 2022-01-22     Zimbabwe    5292  2022      1\n",
            "\n",
            "[207888 rows x 5 columns]\n"
          ]
        }
      ]
    },
    {
      "cell_type": "code",
      "source": [
        "# Dataset with COVID deaths, GDP, and democracy scores\n",
        "# Filter COVID dataset to 2020\n",
        "covid_2020 = covid_filtered[covid_filtered['Year'] == 2020]\n",
        "\n",
        "# Reshape the GDP data to have a 'Year' column\n",
        "gdp_melted = gdp_data.melt(id_vars='Country Name', value_vars=['2020', '2021', '2022'],\n",
        "                           var_name='Year', value_name='GDP_per_Capita')\n",
        "\n",
        "# Convert the 'Year' column to numeric\n",
        "gdp_melted['Year'] = pd.to_numeric(gdp_melted['Year'])\n",
        "\n",
        "# Rename 'Country Name' column\n",
        "gdp_melted = gdp_melted.rename(columns={'Country Name': 'Country'})\n",
        "\n",
        "# Merge the COVID dataset with the GDP dataset on 'Country' and 'Year'\n",
        "merged_data = pd.merge(covid_2020, gdp_melted, how='inner', on=['Country', 'Year'])\n",
        "\n",
        "# Rename columns in the democracy dataset\n",
        "democracy_data = democracy_data.rename(columns={'country': 'Country', 'year': 'Year'})\n",
        "\n",
        "# Filter democracy data for the year 2020 and select relevant columns\n",
        "democracy_2020 = democracy_data[democracy_data['Year'] == 2020][['Country', 'Year',  'total_index_context', 'classification_context']]\n",
        "\n",
        "# Ensure there are no leading spaces in 'Country' names\n",
        "democracy_2020['Country'] = democracy_2020['Country'].str.strip()\n",
        "\n",
        "# Merge the data with COVID and GDP with democracy scores on 'Country' and 'Year'\n",
        "merged_data2 = pd.merge(merged_data, democracy_2020, how='inner', on=['Country', 'Year'])\n",
        "\n",
        "# Group by 'Country' and 'Year'\n",
        "grouped_data = merged_data2.groupby(['Country', 'Year']).agg({\n",
        "    'Deaths': 'sum',  # sum deaths for each date in month\n",
        "    'GDP_per_Capita': 'mean',  # Average GDP per capita\n",
        "    'total_index_context': 'mean',  # Average democracy\n",
        "    'classification_context': 'first', # Get the first classification context\n",
        "}).reset_index()\n",
        "\n",
        "# rename columns\n",
        "grouped_data=grouped_data.rename(columns={'total_index_context': 'Democracy_Scores', 'classification_context': 'Democracy_classification'})\n",
        "\n",
        "# Export the final merged DataFrame to a CSV file\n",
        "grouped_data.to_csv('merged_covid_gdp_democracy.csv', index=False)\n",
        "\n",
        "\n",
        "\n",
        "\n",
        "\n"
      ],
      "metadata": {
        "id": "ALExUKFYUXox"
      },
      "execution_count": null,
      "outputs": []
    }
  ]
}