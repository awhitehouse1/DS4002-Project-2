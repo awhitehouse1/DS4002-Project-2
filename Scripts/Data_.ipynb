{
  "nbformat": 4,
  "nbformat_minor": 0,
  "metadata": {
    "colab": {
      "provenance": []
    },
    "kernelspec": {
      "name": "python3",
      "display_name": "Python 3"
    },
    "language_info": {
      "name": "python"
    }
  },
  "cells": [
    {
      "cell_type": "code",
      "source": [
        "import pandas as pd\n",
        "# Time series data - 2020 with merged covid, gdp, democracy scores\n",
        "\n",
        "# Load the datasets\n",
        "covid_data = pd.read_csv(\"COVID-19 Time Series Data.csv\")\n",
        "gdp_data = pd.read_csv(\"gdp_per_capita.csv\", delimiter=',', skiprows=3, on_bad_lines='warn', keep_default_na=True)\n",
        "democracy_data = pd.read_csv(\"democracy-index-eiu.csv\")\n",
        "\n",
        "# Convert the 'Date' column in the COVID dataset to datetime format\n",
        "covid_data['Date'] = pd.to_datetime(covid_data['Date'])\n",
        "\n",
        "# Filter the COVID data for the date range from January 22, 2020, to January 22, 2022\n",
        "start_date = '2020-01-22'\n",
        "end_date = '2022-01-22'\n",
        "covid_filtered = covid_data[(covid_data['Date'] >= start_date) & (covid_data['Date'] <= end_date)]\n",
        "\n",
        "# Create 'Year' and 'Month' columns from the 'Date' column\n",
        "covid_filtered['Year'] = covid_filtered['Date'].dt.year\n",
        "covid_filtered['Month'] = covid_filtered['Date'].dt.month\n",
        "\n",
        "# Drop the 'Province/State' column and unnecessary columns\n",
        "covid_filtered = covid_filtered.drop(columns=['Province/State', 'Confirmed', 'Recovered'])\n",
        "\n",
        "# Rename 'Country/Region' column\n",
        "covid_filtered = covid_filtered.rename(columns={'Country/Region': 'Country'})\n",
        "\n",
        "# Melt the GDP data to have a 'Year' column\n",
        "gdp_melted = gdp_data.melt(id_vars='Country Name', value_vars=['2020', '2021', '2022'],\n",
        "                           var_name='Year', value_name='GDP_per_Capita')\n",
        "\n",
        "# Convert the 'Year' column to numeric and rename 'Country Name' column\n",
        "gdp_melted['Year'] = pd.to_numeric(gdp_melted['Year'])\n",
        "gdp_melted = gdp_melted.rename(columns={'Country Name': 'Country'})\n",
        "\n",
        "# Filter GDP data for the years 2020 to 2022\n",
        "gdp_filtered = gdp_melted[gdp_melted['Year'].isin([2020, 2021, 2022])]\n",
        "\n",
        "# Rename columns in the democracy dataset\n",
        "democracy_data = democracy_data.rename(columns={'Entity': 'Country'})\n",
        "\n",
        "# Filter democracy data for the years 2020 to 2022\n",
        "democracy_filtered = democracy_data[democracy_data['Year'].isin([2020, 2021, 2022])]\n",
        "\n",
        "# Merge the COVID dataset with the GDP dataset on 'Country' and 'Year'\n",
        "merged_data = pd.merge(covid_filtered, gdp_filtered, how='inner', on=['Country', 'Year'])\n",
        "\n",
        "# Merge the above result with democracy data on 'Country' and 'Year'\n",
        "final_merged_data = pd.merge(merged_data, democracy_filtered, how='inner', on=['Country', 'Year'])\n",
        "\n",
        "# Group by 'Country', 'Year', and 'Date' to aggregate the data\n",
        "grouped_data = final_merged_data.groupby(['Country', 'Year', 'Date']).agg({\n",
        "    'Deaths': 'sum',  # Sum deaths for each country and date\n",
        "    'GDP_per_Capita': 'mean',  # Average GDP per capita\n",
        "    'Democracy score': 'mean',  # Average democracy scores\n",
        "}).reset_index()\n",
        "\n",
        "# Rename columns for clarity\n",
        "grouped_data = grouped_data.rename(columns={\n",
        "    'total_index_context': 'Democracy_Scores',\n",
        "    'classification_context': 'Democracy_Classification'\n",
        "})\n",
        "\n",
        "# Export the final merged DataFrame to a CSV file\n",
        "grouped_data.to_csv('time_series_data.csv', index=False)\n"
      ],
      "metadata": {
        "colab": {
          "base_uri": "https://localhost:8080/"
        },
        "id": "HQjSGJzz8sYb",
        "outputId": "5ac5c805-d80b-42a1-a39e-8025d6906261"
      },
      "execution_count": 16,
      "outputs": [
        {
          "output_type": "stream",
          "name": "stderr",
          "text": [
            "<ipython-input-16-db56e2733118>:18: SettingWithCopyWarning: \n",
            "A value is trying to be set on a copy of a slice from a DataFrame.\n",
            "Try using .loc[row_indexer,col_indexer] = value instead\n",
            "\n",
            "See the caveats in the documentation: https://pandas.pydata.org/pandas-docs/stable/user_guide/indexing.html#returning-a-view-versus-a-copy\n",
            "  covid_filtered['Year'] = covid_filtered['Date'].dt.year\n",
            "<ipython-input-16-db56e2733118>:19: SettingWithCopyWarning: \n",
            "A value is trying to be set on a copy of a slice from a DataFrame.\n",
            "Try using .loc[row_indexer,col_indexer] = value instead\n",
            "\n",
            "See the caveats in the documentation: https://pandas.pydata.org/pandas-docs/stable/user_guide/indexing.html#returning-a-view-versus-a-copy\n",
            "  covid_filtered['Month'] = covid_filtered['Date'].dt.month\n"
          ]
        }
      ]
    },
    {
      "cell_type": "code",
      "source": [
        "# Time series data with only COVID 19 - 2020 to 2022\n",
        "\n",
        "print(covid_filtered)\n",
        "# Export the final merged DataFrame to a CSV file\n",
        "grouped_data.to_csv('cleaned_covid_data.csv', index=False)\n"
      ],
      "metadata": {
        "id": "RBXSVeR51aAe",
        "colab": {
          "base_uri": "https://localhost:8080/"
        },
        "outputId": "741200c2-b257-4d11-e41f-3276250e9047"
      },
      "execution_count": null,
      "outputs": [
        {
          "output_type": "stream",
          "name": "stdout",
          "text": [
            "             Date      Country  Deaths  Year  Month\n",
            "0      2020-01-22  Afghanistan       0  2020      1\n",
            "1      2020-01-23  Afghanistan       0  2020      1\n",
            "2      2020-01-24  Afghanistan       0  2020      1\n",
            "3      2020-01-25  Afghanistan       0  2020      1\n",
            "4      2020-01-26  Afghanistan       0  2020      1\n",
            "...           ...          ...     ...   ...    ...\n",
            "231655 2022-01-18     Zimbabwe    5258  2022      1\n",
            "231656 2022-01-19     Zimbabwe    5266  2022      1\n",
            "231657 2022-01-20     Zimbabwe    5276  2022      1\n",
            "231658 2022-01-21     Zimbabwe    5288  2022      1\n",
            "231659 2022-01-22     Zimbabwe    5292  2022      1\n",
            "\n",
            "[207888 rows x 5 columns]\n"
          ]
        }
      ]
    },
    {
      "cell_type": "code",
      "source": [
        "# Filter COVID dataset to include 2020, 2021, and 2022\n",
        "covid_filtered_years = covid_filtered[covid_filtered['Year'].isin([2020, 2021, 2022])]\n",
        "\n",
        "# Reshape the GDP data to have a 'Year' column and include 2020, 2021, and 2022\n",
        "gdp_melted = gdp_data.melt(id_vars='Country Name', value_vars=['2020', '2021', '2022'],\n",
        "                           var_name='Year', value_name='GDP_per_Capita')\n",
        "\n",
        "# Convert the 'Year' column to numeric\n",
        "gdp_melted['Year'] = pd.to_numeric(gdp_melted['Year'])\n",
        "\n",
        "# Rename 'Country Name' column\n",
        "gdp_melted = gdp_melted.rename(columns={'Country Name': 'Country'})\n",
        "\n",
        "# Merge the COVID dataset with the GDP dataset on 'Country' and 'Year'\n",
        "merged_data = pd.merge(covid_filtered_years, gdp_melted, how='inner', on=['Country', 'Year'])\n",
        "\n",
        "# Rename columns in the democracy dataset\n",
        "democracy_data = democracy_data.rename(columns={'country': 'Country', 'year': 'Year'})\n",
        "\n",
        "# Filter democracy data for the years 2020, 2021, and 2022, and select relevant columns\n",
        "democracy_filtered = democracy_data[democracy_data['Year'].isin([2020, 2021, 2022])][['Country', 'Year', 'Democracy score']]\n",
        "\n",
        "# Ensure there are no leading spaces in 'Country' names\n",
        "democracy_filtered['Country'] = democracy_filtered['Country'].str.strip()\n",
        "\n",
        "# Merge the data with COVID, GDP, and democracy scores on 'Country' and 'Year'\n",
        "merged_data2 = pd.merge(merged_data, democracy_filtered, how='inner', on=['Country', 'Year'])\n",
        "\n",
        "# Group by 'Country' and 'Year'\n",
        "grouped_data = merged_data2.groupby(['Country', 'Year']).agg({\n",
        "    'Deaths': 'sum',  # sum deaths for each date in month\n",
        "    'GDP_per_Capita': 'mean',  # Average GDP per capita\n",
        "    'Democracy score': 'mean',  # Average democracy score\n",
        "}).reset_index()\n",
        "\n",
        "# Export the final merged DataFrame to a CSV file\n",
        "grouped_data.to_csv('merged_covid_gdp_democracy_2020_2022.csv', index=False)\n",
        "\n",
        "# Print a sample of the final dataset\n",
        "print(grouped_data.head())"
      ],
      "metadata": {
        "id": "ALExUKFYUXox",
        "outputId": "98707d49-289f-4b3d-cb9f-6f7420bf5a5b",
        "colab": {
          "base_uri": "https://localhost:8080/"
        }
      },
      "execution_count": 20,
      "outputs": [
        {
          "output_type": "stream",
          "name": "stdout",
          "text": [
            "       Country  Year   Deaths  GDP_per_Capita  Democracy score\n",
            "0  Afghanistan  2020   296447      512.055098             2.85\n",
            "1  Afghanistan  2021  1778958      355.777826             0.32\n",
            "2  Afghanistan  2022   162238      352.603733             0.32\n",
            "3      Albania  2020    88375     5343.037704             6.08\n",
            "4      Albania  2021   871276     6377.203096             6.11\n"
          ]
        }
      ]
    },
    {
      "cell_type": "code",
      "source": [
        "population_data = pd.read_csv('/content/API_SP.POP.TOTL_DS2_en_csv_v2_31753.csv', delimiter=',', skiprows=4, on_bad_lines='warn', keep_default_na=True)  # Replace with the correct file name\n",
        "\n",
        "# Filter the population dataset to include only the year 2020\n",
        "population_2020 = population_data[['Country Name', '2020']]  # Assuming 'Country Name' and '2020' columns exist\n",
        "population_2020 = population_2020.rename(columns={'Country Name': 'Country', '2020': 'Population_2020'})\n",
        "\n",
        "# Ensure there are no leading spaces in 'Country' names\n",
        "population_2020['Country'] = population_2020['Country'].str.strip()\n",
        "\n",
        "# Merge the population data with the existing grouped_data on 'Country'\n",
        "merged_with_population = pd.merge(grouped_data, population_2020, how='inner', on='Country')\n",
        "\n",
        "# Calculate deaths per population (deaths per capita)\n",
        "merged_with_population['Deaths_per_Population'] = merged_with_population['Deaths'] / merged_with_population['Population_2020']\n",
        "\n",
        "# Export the final merged DataFrame to a CSV file\n",
        "merged_with_population.to_csv('merged_covid_gdp_democracy_population.csv', index=False)\n",
        "\n"
      ],
      "metadata": {
        "id": "YSJVhFcpDJOc"
      },
      "execution_count": 23,
      "outputs": []
    },
    {
      "cell_type": "code",
      "source": [
        "correlation = merged_with_population[['Deaths_per_Population', 'GDP_per_Capita']].corr()\n",
        "\n",
        "# Print the correlation matrix\n",
        "print(\"Correlation between Deaths per Population and GDP per Capita:\")\n",
        "print(correlation)\n",
        "\n",
        "correlation = merged_with_population[['Deaths_per_Population', 'Democracy_Scores']].corr()\n",
        "\n",
        "# Print the correlation matrix\n",
        "print(\"Correlation between Deaths per Population and Democracy Scores:\")\n",
        "print(correlation)"
      ],
      "metadata": {
        "id": "47IMIEtJKITy",
        "outputId": "2a2c8e2c-816d-45bc-8900-9857691921f5",
        "colab": {
          "base_uri": "https://localhost:8080/"
        }
      },
      "execution_count": 21,
      "outputs": [
        {
          "output_type": "stream",
          "name": "stdout",
          "text": [
            "Correlation between Deaths per Population and GDP per Capita:\n",
            "                       Deaths_per_Population  GDP_per_Capita\n",
            "Deaths_per_Population               1.000000        0.256614\n",
            "GDP_per_Capita                      0.256614        1.000000\n",
            "Correlation between Deaths per Population and Democracy Scores:\n",
            "                       Deaths_per_Population  Democracy_Scores\n",
            "Deaths_per_Population               1.000000          0.356944\n",
            "Democracy_Scores                    0.356944          1.000000\n"
          ]
        }
      ]
    }
  ]
}
