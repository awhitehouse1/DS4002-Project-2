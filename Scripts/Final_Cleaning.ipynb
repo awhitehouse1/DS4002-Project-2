{
  "nbformat": 4,
  "nbformat_minor": 0,
  "metadata": {
    "colab": {
      "provenance": [],
      "authorship_tag": "ABX9TyMVjeuUUG3wnOc2dAT0f0u9",
      "include_colab_link": true
    },
    "kernelspec": {
      "name": "python3",
      "display_name": "Python 3"
    },
    "language_info": {
      "name": "python"
    }
  },
  "cells": [
    {
      "cell_type": "markdown",
      "metadata": {
        "id": "view-in-github",
        "colab_type": "text"
      },
      "source": [
        "<a href=\"https://colab.research.google.com/github/awhitehouse1/DS4002-Project-2/blob/main/Scripts/Final_Cleaning.ipynb\" target=\"_parent\"><img src=\"https://colab.research.google.com/assets/colab-badge.svg\" alt=\"Open In Colab\"/></a>"
      ]
    },
    {
      "cell_type": "code",
      "execution_count": 2,
      "metadata": {
        "colab": {
          "base_uri": "https://localhost:8080/"
        },
        "id": "O2KpHmcDt26c",
        "outputId": "045436dd-1e57-4f9d-d21f-7a6980fe85a6"
      },
      "outputs": [
        {
          "output_type": "stream",
          "name": "stderr",
          "text": [
            "<ipython-input-2-63e660033235>:18: SettingWithCopyWarning: \n",
            "A value is trying to be set on a copy of a slice from a DataFrame.\n",
            "Try using .loc[row_indexer,col_indexer] = value instead\n",
            "\n",
            "See the caveats in the documentation: https://pandas.pydata.org/pandas-docs/stable/user_guide/indexing.html#returning-a-view-versus-a-copy\n",
            "  covid_filtered['Year'] = covid_filtered['date'].dt.year\n",
            "<ipython-input-2-63e660033235>:19: SettingWithCopyWarning: \n",
            "A value is trying to be set on a copy of a slice from a DataFrame.\n",
            "Try using .loc[row_indexer,col_indexer] = value instead\n",
            "\n",
            "See the caveats in the documentation: https://pandas.pydata.org/pandas-docs/stable/user_guide/indexing.html#returning-a-view-versus-a-copy\n",
            "  covid_filtered['Month'] = covid_filtered['date'].dt.month\n"
          ]
        }
      ],
      "source": [
        "import pandas as pd\n",
        "# Time series data - 2020 with merged covid, gdp, democracy scores\n",
        "\n",
        "# Load the datasets\n",
        "covid_data = pd.read_csv(\"owid-covid-data.csv\")\n",
        "gdp_data = pd.read_csv(\"gdp_per_capita.csv\", delimiter=',', skiprows=3, on_bad_lines='warn', keep_default_na=True)\n",
        "democracy_data = pd.read_csv(\"democracy-index-eiu.csv\")\n",
        "\n",
        "# Convert the 'Date' column in the COVID dataset to datetime format\n",
        "covid_data['date'] = pd.to_datetime(covid_data['date'])\n",
        "\n",
        "# Filter the COVID data for the date range from January 22, 2020, to January 22, 2022\n",
        "start_date = '2020-01-22'\n",
        "end_date = '2022-01-22'\n",
        "covid_filtered = covid_data[(covid_data['date'] >= start_date) & (covid_data['date'] <= end_date)]\n",
        "\n",
        "# Create 'Year' and 'Month' columns from the 'Date' column\n",
        "covid_filtered['Year'] = covid_filtered['date'].dt.year\n",
        "covid_filtered['Month'] = covid_filtered['date'].dt.month\n",
        "\n",
        "covid_filtered = covid_filtered[['Year', 'Month', 'total_deaths_per_million', 'new_deaths_per_million', 'location', 'date' ]]\n",
        "\n",
        "covid_filtered = covid_filtered.rename(columns={'location': 'Country', 'date': 'Date'})\n",
        "\n",
        "\n",
        "# Melt the GDP data to have a 'Year' column\n",
        "gdp_melted = gdp_data.melt(id_vars='Country Name', value_vars=['2020', '2021', '2022'],\n",
        "                           var_name='Year', value_name='GDP_per_Capita')\n",
        "\n",
        "\n",
        "# Convert the 'Year' column to numeric and rename 'Country Name' column\n",
        "gdp_melted['Year'] = pd.to_numeric(gdp_melted['Year'])\n",
        "gdp_melted = gdp_melted.rename(columns={'Country Name': 'Country'})\n",
        "\n",
        "# Filter GDP data for the years 2020 to 2022\n",
        "gdp_filtered = gdp_melted[gdp_melted['Year'].isin([2020, 2021, 2022])]\n",
        "\n",
        "\n",
        "# Rename columns in the democracy dataset\n",
        "democracy_data = democracy_data.rename(columns={'Entity': 'Country'})\n",
        "\n",
        "# Filter democracy data for the years 2020 to 2022\n",
        "democracy_filtered = democracy_data[democracy_data['Year'].isin([2020, 2021, 2022])]\n",
        "\n",
        "# Merge the COVID dataset with the GDP dataset on 'Country' and 'Year'\n",
        "merged_data = pd.merge(covid_filtered, gdp_filtered, how='inner', on=['Country', 'Year'])\n",
        "\n",
        "\n",
        "# Merge the above result with democracy data on 'Country' and 'Year'\n",
        "final_merged_data = pd.merge(merged_data, democracy_filtered, how='inner', on=['Country', 'Year'])\n",
        "\n",
        "final_merged_data = final_merged_data.drop(columns = ['Code'])\n",
        "\n",
        "final_merged_data = final_merged_data[final_merged_data['Country'] != 'World']\n",
        "\n",
        "final_merged_data['Country'] = final_merged_data['Country'].astype('category')\n",
        "final_merged_data['Country_Codes'] = final_merged_data['Country'].cat.codes\n",
        "\n",
        "# Export the final merged DataFrame to a CSV file\n",
        "final_merged_data.to_csv('NEW_time_series_data.csv', index=False)\n",
        "\n",
        "\n"
      ]
    }
  ]
}